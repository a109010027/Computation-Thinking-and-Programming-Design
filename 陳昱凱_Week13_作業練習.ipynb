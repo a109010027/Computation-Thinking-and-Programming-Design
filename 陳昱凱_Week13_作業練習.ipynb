{
  "nbformat": 4,
  "nbformat_minor": 0,
  "metadata": {
    "kernelspec": {
      "display_name": "Python 3",
      "language": "python",
      "name": "python3"
    },
    "language_info": {
      "codemirror_mode": {
        "name": "ipython",
        "version": 3
      },
      "file_extension": ".py",
      "mimetype": "text/x-python",
      "name": "python",
      "nbconvert_exporter": "python",
      "pygments_lexer": "ipython3",
      "version": "3.8.5"
    },
    "colab": {
      "name": "陳昱凱-Week13-作業練習 ",
      "provenance": [],
      "include_colab_link": true
    }
  },
  "cells": [
    {
      "cell_type": "markdown",
      "metadata": {
        "id": "view-in-github",
        "colab_type": "text"
      },
      "source": [
        "<a href=\"https://colab.research.google.com/github/a109010027/Computation-Thinking-and-Programming-Design/blob/main/%E9%99%B3%E6%98%B1%E5%87%B1_Week13_%E4%BD%9C%E6%A5%AD%E7%B7%B4%E7%BF%92.ipynb\" target=\"_parent\"><img src=\"https://colab.research.google.com/assets/colab-badge.svg\" alt=\"Open In Colab\"/></a>"
      ]
    },
    {
      "cell_type": "markdown",
      "metadata": {
        "id": "rAJtK99y1DvN"
      },
      "source": [
        "**隨堂練習1： BMI 計算**\n",
        "\n",
        "請寫一個程式讓使用者輸入身高與體重，顯示BMI 值與肥胖程度。 BMI 等於體重（KG）除以身高（M）的平方，而BMI 與肥胖分類標準如下：\n",
        "\n",
        "若BMI 值小於18，則顯示「體重過輕」，否則若BMI 值小於24，則顯示「體重正常」，若BMI 值小於27，則顯示「體重過重」，否則顯示「體重肥胖」。"
      ]
    },
    {
      "cell_type": "code",
      "metadata": {
        "id": "lWZQRi4B1DvR",
        "colab": {
          "base_uri": "https://localhost:8080/"
        },
        "outputId": "a49bb9f8-d525-4ebf-fcef-cbb391a03a0a"
      },
      "source": [
        "w=float(input('請輸入體重(KG)?'))\n",
        "h=float(input('請輸入身高(M)?'))\n",
        "bmi=w/(h*h)\n",
        "print('BMI為',bmi)\n",
        "if bmi < 18:\n",
        "  print('體重過輕')\n",
        "elif bmi < 24:\n",
        "  print('體重正常')\n",
        "elif bmi < 27:\n",
        "  print('體重過重')\n",
        "else:\n",
        "  print('體重肥胖')"
      ],
      "execution_count": 1,
      "outputs": [
        {
          "output_type": "stream",
          "text": [
            "請輸入體重(KG)?66\n",
            "請輸入身高(M)?168\n",
            "BMI為 0.00233843537414966\n",
            "體重過輕\n"
          ],
          "name": "stdout"
        }
      ]
    },
    {
      "cell_type": "markdown",
      "metadata": {
        "id": "USm14YbB1DvS"
      },
      "source": [
        "**隨堂練習2： 三一律(單向選擇、雙向與巢狀選擇、多向選擇)**\n",
        "\n",
        "請輸入一個數，然後判斷這個數是正數、是負數或者是零。"
      ]
    },
    {
      "cell_type": "code",
      "metadata": {
        "id": "2nU2Tptc1DvS",
        "colab": {
          "base_uri": "https://localhost:8080/"
        },
        "outputId": "6e736c00-5289-4ca5-da08-f3957d2a3d23"
      },
      "source": [
        "num1=int(input(\"number one?\"))\n",
        "num2=int(input(\"number two?\"))\n",
        "if num1 < 0:\n",
        "  print(\"Number one is negative.\")\n",
        "if num2 < 0:\n",
        "  print(\"Number two is negative.\")\n",
        "  print(\"Finished\")\n",
        "if num1 > 0:\n",
        "  print(\"Number one is positive.\")\n",
        "if num2 > 0:\n",
        "  print(\"Number two is positive.\")\n",
        "  print(\"Finished\")\n",
        "if num1 == 0:\n",
        "  print(\"Number one is zero\")  \n",
        "if num2 == 0:\n",
        "  print(\"Number two is zero\")\n",
        "  print(\"Finished\")"
      ],
      "execution_count": 2,
      "outputs": [
        {
          "output_type": "stream",
          "text": [
            "number one?1\n",
            "number two?5\n",
            "Number one is positive.\n",
            "Number two is positive.\n",
            "Finished\n"
          ],
          "name": "stdout"
        }
      ]
    },
    {
      "cell_type": "markdown",
      "metadata": {
        "id": "IaBnd97M1DvT"
      },
      "source": [
        "**練習5   體溫與發燒**\n",
        "\n",
        "設計程式根據體溫判斷是否發燒，由使用者輸入體溫，程式判斷是否發燒，假設體溫小於36度，顯示「體溫過低」，體溫大於等於36度小於38度，顯示「體溫正常」，否則若體溫大於等於38度小於39度，顯示「體溫有點燒」，否則體溫大於等於39度，顯示「體溫很燒」。\n",
        "\n",
        "輸入體溫「36.5」，輸出為「體溫正常」。\n",
        "\n",
        "～程式執行結果如下。\n",
        "\n",
        "請輸入體溫？36.5\n",
        "\n",
        "體溫正常"
      ]
    },
    {
      "cell_type": "code",
      "metadata": {
        "id": "UKM8S5ir1DvT",
        "colab": {
          "base_uri": "https://localhost:8080/"
        },
        "outputId": "b6056bfd-a87b-4886-b7cd-94cdb9824b53"
      },
      "source": [
        "body_temperature = int(input('請輸入體溫?'))\n",
        "if body_temperature < 36:\n",
        "  print('體溫過低')\n",
        "if  38 > body_temperature > 36:\n",
        "  print('體溫正常')\n",
        "if body_temperature > 39:\n",
        "  print('體溫過高')\n",
        "if body_temperature == 36.5:\n",
        "  print('體溫正常')"
      ],
      "execution_count": 3,
      "outputs": [
        {
          "output_type": "stream",
          "text": [
            "請輸入體溫?66\n",
            "體溫很燒\n"
          ],
          "name": "stdout"
        }
      ]
    },
    {
      "cell_type": "markdown",
      "metadata": {
        "id": "LeugH5B31DvT"
      },
      "source": [
        "**練習6  閏年判斷**\n",
        "\n",
        "設計程式允許輸入西元幾年，請求出該年是否是閏年，閏年表示該年多一天，若為4的倍數稱做閏年，但若為100的倍數就不為閏年，且若為400倍數又是閏年。(四年一潤、百年不潤、四百年再潤)\n",
        "\n",
        "輸入年份「2012」，輸出為「2012是閏年」。\n",
        "\n",
        "～程式執行結果如下。\n",
        "\n",
        "請輸入年份？2012\n",
        "\n",
        "2012 是閏年"
      ]
    },
    {
      "cell_type": "code",
      "metadata": {
        "id": "S6QYqhjE1DvU"
      },
      "source": [
        "n=int(input('請輸入年分'))\n",
        "leap_year=n*4\n",
        "if leap_year==n*100:\n",
        "  print(\"不是閏年\")\n",
        "leap_year=n*400\n",
        "if leap_year==n*4:\n",
        "  print(\"是閏年\")\n",
        "if leap_year==n*400:\n",
        "  print(\"是閏年\")"
      ],
      "execution_count": null,
      "outputs": []
    },
    {
      "cell_type": "markdown",
      "metadata": {
        "id": "UTZ64qkK1DvU"
      },
      "source": [
        "**練習12：計程車計費**\n",
        "\n",
        "某城市計程車計費3公里以內6元，超過3公里不足10公里、每公里1.8元，超過10公里則超過部分加收50%。此外停車等候每3分鐘收1元，請用Python寫出車費是多少。"
      ]
    },
    {
      "cell_type": "code",
      "metadata": {
        "id": "5SL4aubj1Pja"
      },
      "source": [
        "length = int(input(\"請輸入距離: \"))\n",
        "time = int(input(\"請輸入時間: \"))\n",
        "if length >=10:\n",
        "  feight =6 + (10-3)*1.8+(length-10)*1.8*1.5\n",
        "else:\n",
        "  if length >=3:\n",
        "    feight =6 + (length-3)*1.8\n",
        "  else:\n",
        "    feight =6\n",
        "feight = feight + (time /3)*1\n",
        "print(\"計程車費是\",feight)      \n"
      ],
      "execution_count": null,
      "outputs": []
    }
  ]
}