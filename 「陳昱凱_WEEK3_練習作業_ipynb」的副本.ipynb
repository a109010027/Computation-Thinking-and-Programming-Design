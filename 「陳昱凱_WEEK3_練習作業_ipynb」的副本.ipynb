{
  "nbformat": 4,
  "nbformat_minor": 0,
  "metadata": {
    "colab": {
      "name": "「陳昱凱-WEEK3-練習作業.ipynb」的副本",
      "provenance": [],
      "authorship_tag": "ABX9TyNqTSRBepCA5/7gf4uFqjxW",
      "include_colab_link": true
    },
    "kernelspec": {
      "name": "python3",
      "display_name": "Python 3"
    }
  },
  "cells": [
    {
      "cell_type": "markdown",
      "metadata": {
        "id": "view-in-github",
        "colab_type": "text"
      },
      "source": [
        "<a href=\"https://colab.research.google.com/github/a109010027/Computation-Thinking-and-Programming-Design/blob/main/%E3%80%8C%E9%99%B3%E6%98%B1%E5%87%B1_WEEK3_%E7%B7%B4%E7%BF%92%E4%BD%9C%E6%A5%AD_ipynb%E3%80%8D%E7%9A%84%E5%89%AF%E6%9C%AC.ipynb\" target=\"_parent\"><img src=\"https://colab.research.google.com/assets/colab-badge.svg\" alt=\"Open In Colab\"/></a>"
      ]
    },
    {
      "cell_type": "code",
      "metadata": {
        "id": "5TaaOD9gM89h"
      },
      "source": [
        "\r\n"
      ],
      "execution_count": null,
      "outputs": []
    },
    {
      "cell_type": "markdown",
      "metadata": {
        "id": "H7ADYj81NkK_"
      },
      "source": [
        "#隨堂練習\r\n",
        "\r\n",
        "\r\n"
      ]
    },
    {
      "cell_type": "markdown",
      "metadata": {
        "id": "WJ3D5BtVSTXB"
      },
      "source": [
        ""
      ]
    },
    {
      "cell_type": "markdown",
      "metadata": {
        "id": "RrEgbb_SNVSb"
      },
      "source": [
        ""
      ]
    },
    {
      "cell_type": "markdown",
      "metadata": {
        "id": "E9PgYCU9OHCw"
      },
      "source": [
        "#認識電腦\r\n"
      ]
    },
    {
      "cell_type": "markdown",
      "metadata": {
        "id": "ZjPSBBM9OXjR"
      },
      "source": [
        "練習作業：(1)隨堂練習為各單元重點摘要\r\n",
        "(2)課後練習則為從一則新聞報導，提出對新聞系學生為什麼要學「運算思維與程式設計」的見解。\r\n"
      ]
    },
    {
      "cell_type": "markdown",
      "metadata": {
        "id": "yY4gG_nsSWUX"
      },
      "source": [
        "電腦主要是由硬體與軟體兩部分,構成電腦系統架構,可以提供使用者在其中執行應用程式處理資料。硬體是具體可見的零件,而軟體則是指揮硬體運作的靈魂。"
      ]
    },
    {
      "cell_type": "markdown",
      "metadata": {
        "id": "Lt3-4TJhSfB_"
      },
      "source": [
        "https://www.cw.com.tw/article/5079250?fbclid=IwAR2I8bIdIqVlC-Wo2MrwhWgQV4PDhvfMMEId8DPuxI6ijGdxiDE8XsNKN0k\r\n",
        "史丹佛　九成學生都會CS\r\n",
        "心得：當今資訊社會中，各領域的人才皆需要與資訊接軌，因此程式設計作為接觸資訊化世界的首選，每個人皆需要熟悉程式設計的議題。"
      ]
    }
  ]
}