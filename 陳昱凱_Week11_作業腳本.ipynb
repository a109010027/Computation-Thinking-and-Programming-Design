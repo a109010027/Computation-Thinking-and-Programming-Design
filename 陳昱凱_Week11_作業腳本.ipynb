{
  "nbformat": 4,
  "nbformat_minor": 0,
  "metadata": {
    "colab": {
      "name": "陳昱凱-Week11-作業腳本",
      "provenance": [],
      "authorship_tag": "ABX9TyOq8ZOgR3Wu26Wq8obngOMw",
      "include_colab_link": true
    },
    "kernelspec": {
      "name": "python3",
      "display_name": "Python 3"
    },
    "language_info": {
      "name": "python"
    }
  },
  "cells": [
    {
      "cell_type": "markdown",
      "metadata": {
        "id": "view-in-github",
        "colab_type": "text"
      },
      "source": [
        "<a href=\"https://colab.research.google.com/github/a109010027/Computation-Thinking-and-Programming-Design/blob/main/%E9%99%B3%E6%98%B1%E5%87%B1_Week11_%E4%BD%9C%E6%A5%AD%E8%85%B3%E6%9C%AC.ipynb\" target=\"_parent\"><img src=\"https://colab.research.google.com/assets/colab-badge.svg\" alt=\"Open In Colab\"/></a>"
      ]
    },
    {
      "cell_type": "markdown",
      "metadata": {
        "id": "zL3r6hvy8thL"
      },
      "source": [
        "\n",
        "\n",
        "嗨美女，今天過得如何？\n",
        "\n",
        "吃午餐了嗎？是在家裡吃嗎？\n",
        "\n",
        "現在疫情期間除了叫外送也可以自己煮來吃呀，是一個提升廚藝的好機會\n",
        "\n",
        "你要不要分享居家防疫的感覺？\n",
        "\n",
        "不舒服是一定的，但還是得撐過去呀\n",
        "\n",
        "那你身邊的朋友過得如何？\n",
        "\n",
        "有沒有常常用視訊聊天呀？\n",
        "\n",
        "這段期間人際關係的培養也是很重要的喔～\n",
        "\n",
        "那在家也要勤洗手做好防護喔～\n"
      ]
    }
  ]
}