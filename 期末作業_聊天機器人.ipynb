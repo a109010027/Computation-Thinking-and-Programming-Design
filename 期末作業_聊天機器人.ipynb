{
  "nbformat": 4,
  "nbformat_minor": 0,
  "metadata": {
    "colab": {
      "name": "期末作業-聊天機器人",
      "provenance": [],
      "authorship_tag": "ABX9TyOuaWHOtKwrhCV/PCLGEMEs",
      "include_colab_link": true
    },
    "kernelspec": {
      "name": "python3",
      "display_name": "Python 3"
    },
    "language_info": {
      "name": "python"
    }
  },
  "cells": [
    {
      "cell_type": "markdown",
      "metadata": {
        "id": "view-in-github",
        "colab_type": "text"
      },
      "source": [
        "<a href=\"https://colab.research.google.com/github/a109010027/Computation-Thinking-and-Programming-Design/blob/main/%E6%9C%9F%E6%9C%AB%E4%BD%9C%E6%A5%AD_%E8%81%8A%E5%A4%A9%E6%A9%9F%E5%99%A8%E4%BA%BA.ipynb\" target=\"_parent\"><img src=\"https://colab.research.google.com/assets/colab-badge.svg\" alt=\"Open In Colab\"/></a>"
      ]
    },
    {
      "cell_type": "code",
      "metadata": {
        "id": "Mhhth_JUGBvg",
        "colab": {
          "base_uri": "https://localhost:8080/"
        },
        "outputId": "12776174-4c41-4f9d-e52e-73cb6e189e95"
      },
      "source": [
        "print(\"嗨美女,今天過的如何？\")\n",
        "name = input (\"請告訴我您的名字\")\n",
        "print(f\"您好{ name },歡迎使用本智能聊天羅博特。\")\n",
        "\n",
        "print(\"我的名字叫做睪陸,一款真正人性化的聊天羅博特。\")\n",
        "\n",
        "print(\"更懂生活，更懂您，牛逼\")\n",
        "\n",
        "print(\"您吃飯了嗎?\")\n",
        "answer = input(\"(吃了/沒吃):\") \n",
        "\n",
        "if answer == \"吃了\":\n",
        " print(\"吃了的話，偷偷告訴您我家巷口兒那有上好的煎餃子攤，特牛逼。\")\n",
        " print(\"現在美帝肺炎太猖狂，哪都不能去。\")\n",
        "\n",
        "\n",
        "if answer == \"沒吃\":\n",
        " print(\"沒吃呀，我這個剛好有個麵包，我還不餓，請你們吃。\")\n",
        " print(\"美團給老子訂起來!\")\n",
        "\n",
        "print(\"那你的小夥伴們過得如何？\")\n",
        "answer = input(\"開放式答案\")\n",
        "\n",
        "print(\"大家日子都很彆屈，我太難了。\")\n",
        "print(\"必須做好防疫攻堅戰，我們勢必能打贏這場有組織有計謀的境外勢力作戰。\")\n",
        "\n",
        "print(\"你平常會不會碰碰呢\")\n",
        "answer = input(\"(會的/不會):\") \n",
        "\n",
        "if answer == \"會的\":\n",
        " print(\"我也喜歡碰碰呢，尤其是碰阿碰碰碰。\")\n",
        "\n",
        "if answer == \"不會\":\n",
        " print(\"都幾歲了，還那麼害羞，我看你…完全是不懂喔。\")\n",
        "\n",
        "print(\"你知道癱瘓的魚要怎麼幫他翻身嗎\")\n",
        "answer = input(\"(鹹魚翻身/不知道\") \n",
        "\n",
        "if answer == \"鹹魚翻身\":\n",
        " print(\"喔是喔。\")\n",
        "\n",
        "if answer == \"不知道\":\n",
        " print(\"鹹魚翻身，哈哈好笑吧。人類真的沒有幽默感==\")\n",
        " print(\"◢▆▅▄▃崩╰(〒皿〒)╯潰▃▄▅▇◣\")\n",
        "\n",
        "print(\"欸欸！你還在嗎？在打在！\")\n",
        "answer = input(\"(在)\")\n",
        "if answer == \"在\":\n",
        " print(\"抱歉!人類!我很忙!加班費拿來再說\")\n",
        "\n",
        "\n",
        "print(\"很高興和您聊天，希望往後本智能聊天羅博特睪陸能再次與您相遇！\")\n",
        "\n",
        "\n",
        "\n",
        "\n",
        "\n",
        "\n",
        "\n"
      ],
      "execution_count": 2,
      "outputs": [
        {
          "output_type": "stream",
          "text": [
            "嗨美女,今天過的如何？\n",
            "請告訴我您的名字幹\n",
            "您好幹,歡迎使用本智能聊天羅博特。\n",
            "我的名字叫做睪陸,一款真正人性化的聊天羅博特。\n",
            "更懂生活，更懂您，牛逼\n",
            "您吃飯了嗎?\n",
            "(吃了/沒吃):吃了\n",
            "吃了的話，偷偷告訴您我家巷口兒那有上好的煎餃子攤，特牛逼。\n",
            "現在美帝肺炎太猖狂，哪都不能去。\n",
            "那你的小夥伴們過得如何？\n",
            "開放式答案蝦\n",
            "大家日子都很彆屈，我太難了。\n",
            "必須做好防疫攻堅戰，我們勢必能打贏這場有組織有計謀的境外勢力作戰。\n",
            "你平常會不會碰碰呢\n",
            "(會的/不會):不會\n",
            "都幾歲了，還那麼害羞，我看你…完全是不懂喔。\n",
            "你知道癱瘓的魚要怎麼幫他翻身嗎\n",
            "(鹹魚翻身/不知道不知道\n",
            "鹹魚翻身，哈哈好笑吧。人類真的沒有幽默感==\n",
            "◢▆▅▄▃崩╰(〒皿〒)╯潰▃▄▅▇◣\n",
            "欸欸！你還在嗎？在打在！\n",
            "(在)蝦\n",
            "很高興和您聊天，希望往後本智能聊天羅博特睪陸能再次與您相遇！\n"
          ],
          "name": "stdout"
        }
      ]
    }
  ]
}