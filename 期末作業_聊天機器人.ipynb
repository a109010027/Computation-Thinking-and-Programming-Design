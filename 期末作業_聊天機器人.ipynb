{
  "nbformat": 4,
  "nbformat_minor": 0,
  "metadata": {
    "colab": {
      "name": "期末作業-聊天機器人",
      "provenance": [],
      "authorship_tag": "ABX9TyN9rIg0+YNikVKm1Pk5D7ab",
      "include_colab_link": true
    },
    "kernelspec": {
      "name": "python3",
      "display_name": "Python 3"
    },
    "language_info": {
      "name": "python"
    }
  },
  "cells": [
    {
      "cell_type": "markdown",
      "metadata": {
        "id": "view-in-github",
        "colab_type": "text"
      },
      "source": [
        "<a href=\"https://colab.research.google.com/github/a109010027/Computation-Thinking-and-Programming-Design/blob/main/%E6%9C%9F%E6%9C%AB%E4%BD%9C%E6%A5%AD_%E8%81%8A%E5%A4%A9%E6%A9%9F%E5%99%A8%E4%BA%BA.ipynb\" target=\"_parent\"><img src=\"https://colab.research.google.com/assets/colab-badge.svg\" alt=\"Open In Colab\"/></a>"
      ]
    },
    {
      "cell_type": "code",
      "metadata": {
        "id": "Mhhth_JUGBvg"
      },
      "source": [
        "print(\"嗨美女,今天過的如何？\")\n",
        "name = input (\"請告訴我您的名字\")\n",
        "print(f\"您好{ name },歡迎使用本智能聊天羅博特。\")\n",
        "print(\"我的名字叫做睪陸,一款真正人性化的聊天羅博特。\")\n",
        "print(\"更懂生活，更懂您，牛逼\")\n",
        "\n",
        "print(\"您吃飯了嗎?\")\n",
        "answer = input(\"(吃了/沒吃):\") \n",
        "\n",
        "if answer == \"吃了\":\n",
        " print(\"吃了的話，偷偷告訴您我家巷口兒那有上好的煎餃子攤，特牛逼。\")\n",
        " print(\"現在美帝肺炎太猖狂，哪都不能去。\")\n",
        "\n",
        "\n",
        "if answer == \"沒吃\":\n",
        " print(\"沒吃呀，我這個剛好有個麵包，我還不餓，請你們吃。\")\n",
        " print(\"美團和餓了吧!給老子訂起來!\")\n",
        "\n",
        "print(\"那你的小夥伴們過得如何？\")\n",
        "answer = input(\"開放式答案\")\n",
        "\n",
        "print(\"大家日子都很彆屈，我太難了。\")\n",
        "print(\"必須做好防疫攻堅戰，我們勢必能打贏這場有組織有計謀的境外勢力作戰。\")\n",
        "\n",
        "\n",
        "\n",
        "\n"
      ],
      "execution_count": null,
      "outputs": []
    }
  ]
}